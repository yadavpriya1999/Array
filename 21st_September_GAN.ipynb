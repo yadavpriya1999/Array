{
 "cells": [
  {
   "cell_type": "markdown",
   "id": "d4f17d6a",
   "metadata": {},
   "source": [
    "1. Given an array, check if it contains any duplicates or not.\n",
    "arr = [1, 2, 4, 2, 5, 9]\n",
    "Output = True"
   ]
  },
  {
   "cell_type": "code",
   "execution_count": 4,
   "id": "b81a6faa",
   "metadata": {},
   "outputs": [
    {
     "name": "stdout",
     "output_type": "stream",
     "text": [
      "True\n"
     ]
    }
   ],
   "source": [
    "#Method-1\n",
    "def containDuplicate(arr):\n",
    "    n=len(arr)\n",
    "    for i in range(0,n):\n",
    "        for j in range(i+1,n-1):\n",
    "            if(arr[i]==arr[j]):\n",
    "                return True\n",
    "    return False\n",
    "       \n",
    "\n",
    "arr=[1, 2, 4, 2, 5, 9] \n",
    "result=containDuplicate(arr)\n",
    "print(result)\n",
    "\n",
    "#TC-O(n^2)\n",
    "#SC-O(1)"
   ]
  },
  {
   "cell_type": "markdown",
   "id": "993fcf7f",
   "metadata": {},
   "source": [
    "2. Given an array and an integer k, rotate the array to the right by k steps.\n",
    "arr = [1, 2, 3, 4, 5, 6, 7] k = 3\n",
    "Output = [5, 6, 7, 1, 2, 3, 4]"
   ]
  },
  {
   "cell_type": "code",
   "execution_count": 2,
   "id": "66f732a1",
   "metadata": {},
   "outputs": [
    {
     "name": "stdout",
     "output_type": "stream",
     "text": [
      "[5, 6, 7, 1, 2, 3, 4]\n"
     ]
    }
   ],
   "source": [
    "#using temp variable\n",
    "def rotateArray(arr,k):\n",
    "    n=len(arr)\n",
    "    k=k%n\n",
    "    temp=arr[-k:]\n",
    "    arr[k:]=arr[:-k]\n",
    "    arr[:k]=temp\n",
    "    return arr\n",
    "        \n",
    "arr=[1,2,3,4,5,6,7]\n",
    "k=3\n",
    "rotateArray(arr,k)\n",
    "print(arr)\n",
    "\n",
    "#TC-O(k)\n",
    "#SC-O(1)"
   ]
  },
  {
   "cell_type": "markdown",
   "id": "46a51e25",
   "metadata": {},
   "source": [
    "3. Reverse the given array in-place, means without using any extra data structure.\n",
    "arr = [2, 4, 5, 7, 9, 12]\n",
    "Output = [12, 9, 7, 5, 4, 2]"
   ]
  },
  {
   "cell_type": "code",
   "execution_count": 15,
   "id": "19a18e3d",
   "metadata": {},
   "outputs": [
    {
     "name": "stdout",
     "output_type": "stream",
     "text": [
      "[12, 9, 7, 5, 4, 2]\n"
     ]
    }
   ],
   "source": [
    "#Using Slicing\n",
    "arr=[2,4,5,7,9,12]\n",
    "reverse_Arr=arr[::-1]\n",
    "print(reverse_Arr)"
   ]
  },
  {
   "cell_type": "code",
   "execution_count": 16,
   "id": "d5b795e9",
   "metadata": {},
   "outputs": [
    {
     "name": "stdout",
     "output_type": "stream",
     "text": [
      "[12, 9, 7, 5, 4, 2]\n"
     ]
    }
   ],
   "source": [
    "#usinge reverse()\n",
    "arr=[2,4,5,7,9,12]\n",
    "arr.reverse()\n",
    "print(arr)"
   ]
  },
  {
   "cell_type": "code",
   "execution_count": 17,
   "id": "a12da7a1",
   "metadata": {},
   "outputs": [
    {
     "name": "stdout",
     "output_type": "stream",
     "text": [
      "[12, 9, 7, 5, 4, 2]\n"
     ]
    }
   ],
   "source": [
    "#using loop    \n",
    "arr=[2, 4, 5, 7, 9, 12]\n",
    "reverseArr=[]\n",
    "for i in reversed(arr):\n",
    "    reverseArr.append(i)\n",
    "print(reverseArr)\n",
    "\n",
    "#TC-O(n)\n",
    "#SC-O(n)"
   ]
  },
  {
   "cell_type": "markdown",
   "id": "0de9adf3",
   "metadata": {},
   "source": [
    "4. Given an array of integers, find the maximum element in an array\n",
    "arr = [10, 5, 20, 8, 15]\n",
    "Output = 20"
   ]
  },
  {
   "cell_type": "code",
   "execution_count": 18,
   "id": "6cca50f7",
   "metadata": {},
   "outputs": [
    {
     "name": "stdout",
     "output_type": "stream",
     "text": [
      "20\n"
     ]
    }
   ],
   "source": [
    "def maxElement(arr):\n",
    "    n=len(arr)\n",
    "    maxEle=arr[0]\n",
    "    for i in range(1,n):\n",
    "        if (maxEle<arr[i]):\n",
    "            maxEle=arr[i]\n",
    "    return maxEle\n",
    "\n",
    "arr=[10,5,20,8,15]\n",
    "result=maxElement(arr)\n",
    "print(result)\n",
    "\n",
    "#TC-O(n)\n",
    "#SC-O(1)"
   ]
  },
  {
   "cell_type": "markdown",
   "id": "0d124582",
   "metadata": {},
   "source": [
    "5. Given a sorted array, remove the duplicate element without using any extra data structure.\n",
    "arr = [1, 1, 2, 2, 2, 3, 3, 4, 4, 4, 5, 5]\n",
    "Output = [1, 2, 3, 4, 5]"
   ]
  },
  {
   "cell_type": "code",
   "execution_count": 24,
   "id": "9998c9dd",
   "metadata": {},
   "outputs": [
    {
     "name": "stdout",
     "output_type": "stream",
     "text": [
      "[1, 2, 3, 4, 5]\n"
     ]
    }
   ],
   "source": [
    "#With Extra space\n",
    "arr = [1, 1, 2, 2, 2, 3, 3, 4, 4, 4, 5, 5]\n",
    "res=[]\n",
    "for i in arr:\n",
    "    if i not in res:\n",
    "        res.append(i)\n",
    "print(res)\n",
    "\n",
    "\n",
    "#TC-O(n)\n",
    "#SC-O(n)"
   ]
  },
  {
   "cell_type": "code",
   "execution_count": 4,
   "id": "708a645a",
   "metadata": {},
   "outputs": [
    {
     "name": "stdout",
     "output_type": "stream",
     "text": [
      "[1, 2, 3, 4, 5]\n"
     ]
    }
   ],
   "source": [
    "#without extra space\n",
    "\n",
    "def removeDuplicate(arr):\n",
    "    n=len(arr)\n",
    "    idx=1\n",
    "    for i in range(1,n):\n",
    "        if(arr[i]!=arr[i-1]):\n",
    "            arr[idx]=arr[i]\n",
    "            idx+=1\n",
    "            \n",
    "    arr=arr[:idx]\n",
    "    return arr\n",
    "\n",
    "arr = [1, 1, 2, 2, 2, 3, 3, 4, 4, 4, 5, 5]\n",
    "res=removeDuplicate(arr)\n",
    "print(res)"
   ]
  },
  {
   "cell_type": "code",
   "execution_count": null,
   "id": "e882e640",
   "metadata": {},
   "outputs": [],
   "source": []
  }
 ],
 "metadata": {
  "kernelspec": {
   "display_name": "Python 3 (ipykernel)",
   "language": "python",
   "name": "python3"
  },
  "language_info": {
   "codemirror_mode": {
    "name": "ipython",
    "version": 3
   },
   "file_extension": ".py",
   "mimetype": "text/x-python",
   "name": "python",
   "nbconvert_exporter": "python",
   "pygments_lexer": "ipython3",
   "version": "3.10.9"
  }
 },
 "nbformat": 4,
 "nbformat_minor": 5
}
